{
 "cells": [
  {
   "cell_type": "markdown",
   "id": "french-dollar",
   "metadata": {},
   "source": [
    "HACKDAY CDS - TIME 1"
   ]
  },
  {
   "cell_type": "markdown",
   "id": "homeless-heading",
   "metadata": {},
   "source": [
    "# Imports"
   ]
  },
  {
   "cell_type": "code",
   "execution_count": 1,
   "id": "lovely-guess",
   "metadata": {
    "ExecuteTime": {
     "end_time": "2022-08-20T13:11:11.293973Z",
     "start_time": "2022-08-20T13:11:10.365439Z"
    }
   },
   "outputs": [],
   "source": [
    "import pandas as pd\n",
    "import numpy as np\n",
    "import seaborn as sns\n",
    "\n",
    "\n",
    "from IPython.core.display    import HTML\n",
    "from IPython.display         import Image"
   ]
  },
  {
   "cell_type": "markdown",
   "id": "dressed-ukraine",
   "metadata": {},
   "source": [
    "## Helper Functions"
   ]
  },
  {
   "cell_type": "code",
   "execution_count": 4,
   "id": "cordless-people",
   "metadata": {
    "ExecuteTime": {
     "end_time": "2022-08-20T13:13:24.174816Z",
     "start_time": "2022-08-20T13:13:24.133550Z"
    }
   },
   "outputs": [],
   "source": [
    "def jupyter_settings():\n",
    "    %matplotlib inline\n",
    "    %pylab inline\n",
    "    \n",
    "    plt.style.use( 'bmh' )\n",
    "    plt.rcParams['figure.figsize'] = [25, 12]\n",
    "    plt.rcParams['font.size'] = 24\n",
    "    \n",
    "    display( HTML( '<style>.container { width:100% !important; }</style>') )\n",
    "    pd.options.display.max_columns = None\n",
    "    pd.options.display.max_rows = None\n",
    "    pd.set_option( 'display.expand_frame_repr', False )\n",
    "    \n",
    "    sns.set()\n",
    "    \n",
    "def cramer_v( x, y ):\n",
    "    cm = pd.crosstab( x, y ).values # Confusion Matrix\n",
    "    n = cm.sum()\n",
    "    r, k = cm.shape\n",
    "    \n",
    "    chi2 = ss.chi2_contingency( cm )[0]\n",
    "    chi2corr = max( 0, chi2 - (k-1)*(r-1)/(n-1) )\n",
    "    \n",
    "    kcorr = k - (k-1)**2/(n-1)\n",
    "    rcorr = r - (r-1)**2/(n-1)\n",
    "    \n",
    "    return np.sqrt( (chi2corr/n) / ( min( kcorr-1, rcorr-1 ) ) )\n",
    "\n",
    "def mean_absolute_percentage_error( y, yhat ):\n",
    "    y, yhat = np.array(y), np.array(yhat)\n",
    "    return np.mean( np.abs( ( y-yhat ) / y ))\n",
    "\n",
    "def mean_percentage_error( y, yhat ):\n",
    "    return np.mean( ( y - yhat ) / y )\n",
    "\n",
    "# Define the function to evaluate the models\n",
    "def weighted_mean_absolute_error(df, y, yhat):\n",
    "    weights = df.is_holiday.apply(lambda x: 5 if x else 1)\n",
    "    return np.round(np.sum(weights*abs(y-yhat))/(np.sum(weights)), 2)\n",
    "\n",
    "def ml_error( df,model_name, y, yhat):\n",
    "    mae = mean_absolute_error( y,yhat )\n",
    "    mape = mean_absolute_percentage_error( y,yhat )\n",
    "    rmse = np.sqrt(mean_squared_error( y,yhat ))\n",
    "    WMAE = weighted_mean_absolute_error(df, y, yhat)\n",
    "    \n",
    "    return pd.DataFrame( {'Model Name': model_name,\n",
    "                          'MAE': mae,\n",
    "                          'RMSE': rmse,\n",
    "                          'WMAE': WMAE}, index=[0])\n",
    "\n",
    "# time-series cross validation implementation\n",
    "def cross_validation( x_training, kfold, model_name, model, verbose=False ):\n",
    "    mae_list = []\n",
    "    mape_list = []\n",
    "    rmse_list = []\n",
    "    WMAE_list = []\n",
    "     \n",
    "    for k in reversed( range( 1, kfold+1 ) ): #k-fold implementation\n",
    "        if verbose:\n",
    "            print( '\\nKFold Number: {}'.format( k ) )\n",
    "        # start and end date for validation \n",
    "        start_date_validation = x_training['date'].max() - datetime.timedelta( weeks=k*22) #primeira semanada da venda realizada\n",
    "        end_date_validation = x_training['date'].max() - datetime.timedelta( weeks=(k-1)*22) #ultima semana\n",
    "\n",
    "        # filtering dataset\n",
    "        training = x_training[x_training['date'] < start_date_validation]\n",
    "        validation = x_training[(x_training['date'] >= start_date_validation) & (x_training['date'] <= end_date_validation)]\n",
    "\n",
    "        # training and validation dataset\n",
    "        # training\n",
    "        xtraining = training.drop( ['date', 'weekly_sales'], axis=1 ) \n",
    "        ytraining = training['weekly_sales']\n",
    "\n",
    "        # validation\n",
    "        xvalidation = validation.drop( ['date', 'weekly_sales'], axis=1 )\n",
    "        yvalidation = validation['weekly_sales']\n",
    "\n",
    "        # model\n",
    "        m = model.fit( xtraining, ytraining )\n",
    "\n",
    "        # prediction\n",
    "        yhat = m.predict(xvalidation)\n",
    "\n",
    "        # performance\n",
    "        m_result = ml_error( xvalidation, model_name, np.expm1( yvalidation ), np.expm1( yhat ) )\n",
    "\n",
    "        # store performance of each kfold iteration\n",
    "        mae_list.append(  m_result['MAE'] )\n",
    "        rmse_list.append( m_result['RMSE'] )\n",
    "        WMAE_list.append( m_result['WMAE'])\n",
    "\n",
    "    return pd.DataFrame( {'Model Name': model_name,\n",
    "                          'MAE CV':  np.round( np.mean( mae_list ), 2 ).astype( str )  + ' +/- ' + np.round( np.std( mae_list ), 2 ).astype( str ),\n",
    "                          'RMSE CV': np.round( np.mean( rmse_list ), 2 ).astype( str ) + ' +/- ' + np.round( np.std( rmse_list ), 2 ).astype( str ),\n",
    "                          'WMAE CV': np.round( np.mean( WMAE_list ), 2 ).astype( str ) + ' +/- ' + np.round( np.std( WMAE_list ), 2 ).astype( str )}, index=[0] )\n"
   ]
  },
  {
   "cell_type": "code",
   "execution_count": 3,
   "id": "casual-ecology",
   "metadata": {
    "ExecuteTime": {
     "end_time": "2022-08-20T13:11:14.812796Z",
     "start_time": "2022-08-20T13:11:14.784676Z"
    }
   },
   "outputs": [
    {
     "name": "stdout",
     "output_type": "stream",
     "text": [
      "%pylab is deprecated, use %matplotlib inline and import the required libraries.\n",
      "Populating the interactive namespace from numpy and matplotlib\n"
     ]
    },
    {
     "data": {
      "text/html": [
       "<style>.container { width:100% !important; }</style>"
      ],
      "text/plain": [
       "<IPython.core.display.HTML object>"
      ]
     },
     "metadata": {},
     "output_type": "display_data"
    }
   ],
   "source": [
    "jupyter_settings()"
   ]
  },
  {
   "cell_type": "markdown",
   "id": "ec29ebbd",
   "metadata": {},
   "source": [
    "# LOADING DATA"
   ]
  },
  {
   "cell_type": "code",
   "execution_count": 13,
   "id": "eec8ecba",
   "metadata": {
    "ExecuteTime": {
     "end_time": "2022-08-20T13:14:46.898728Z",
     "start_time": "2022-08-20T13:14:46.887693Z"
    }
   },
   "outputs": [
    {
     "ename": "SyntaxError",
     "evalue": "invalid syntax (2496112083.py, line 1)",
     "output_type": "error",
     "traceback": [
      "\u001b[0;36m  Input \u001b[0;32mIn [13]\u001b[0;36m\u001b[0m\n\u001b[0;31m    ../ls -la\u001b[0m\n\u001b[0m    ^\u001b[0m\n\u001b[0;31mSyntaxError\u001b[0m\u001b[0;31m:\u001b[0m invalid syntax\n"
     ]
    }
   ],
   "source": [
    "../ls -la"
   ]
  },
  {
   "cell_type": "code",
   "execution_count": 14,
   "id": "9b5b342c",
   "metadata": {
    "ExecuteTime": {
     "end_time": "2022-08-20T13:16:24.940753Z",
     "start_time": "2022-08-20T13:16:24.499841Z"
    }
   },
   "outputs": [],
   "source": [
    "#project home path for importing files\n",
    "home_path = '/home/marxcerqueira/repos/hackday-cds-time1/'\n",
    "\n",
    "#loading datasets available for this project\n",
    "df_treino              = pd.read_csv(home_path + 'data/treino.csv', low_memory = False)\n",
    "df_teste               = pd.read_csv(home_path + 'data/teste.csv', low_memory = False)\n",
    "df_sample_submission   = pd.read_csv(home_path + 'data/sample_submission.csv', low_memory = False)\n"
   ]
  },
  {
   "cell_type": "code",
   "execution_count": 15,
   "id": "06e2f88e",
   "metadata": {
    "ExecuteTime": {
     "end_time": "2022-08-20T13:16:45.228012Z",
     "start_time": "2022-08-20T13:16:45.189679Z"
    },
    "code_folding": []
   },
   "outputs": [
    {
     "data": {
      "text/html": [
       "<div>\n",
       "<style scoped>\n",
       "    .dataframe tbody tr th:only-of-type {\n",
       "        vertical-align: middle;\n",
       "    }\n",
       "\n",
       "    .dataframe tbody tr th {\n",
       "        vertical-align: top;\n",
       "    }\n",
       "\n",
       "    .dataframe thead th {\n",
       "        text-align: right;\n",
       "    }\n",
       "</style>\n",
       "<table border=\"1\" class=\"dataframe\">\n",
       "  <thead>\n",
       "    <tr style=\"text-align: right;\">\n",
       "      <th></th>\n",
       "      <th>ID</th>\n",
       "      <th>num_fotos</th>\n",
       "      <th>marca</th>\n",
       "      <th>modelo</th>\n",
       "      <th>versao</th>\n",
       "      <th>ano_de_fabricacao</th>\n",
       "      <th>ano_modelo</th>\n",
       "      <th>odometro</th>\n",
       "      <th>cambio</th>\n",
       "      <th>num_portas</th>\n",
       "      <th>tipo</th>\n",
       "      <th>blindado</th>\n",
       "      <th>cor</th>\n",
       "      <th>tipo_vendedor</th>\n",
       "      <th>cidade_vendedor</th>\n",
       "      <th>estado_vendedor</th>\n",
       "      <th>tipo_anuncio</th>\n",
       "      <th>entrega_delivery</th>\n",
       "      <th>troca</th>\n",
       "      <th>elegivel_revisao</th>\n",
       "      <th>attr_veiculo_aceita_troca</th>\n",
       "      <th>attr_veiculo_único_dono</th>\n",
       "      <th>attr_veiculo_todas_as_revisões_feitas_pela_concessionária</th>\n",
       "      <th>attr_veiculo_ipva_pago</th>\n",
       "      <th>attr_veiculo_licenciado</th>\n",
       "      <th>attr_veiculo_garantia_de_fábrica</th>\n",
       "      <th>attr_veiculo_todas_as_revisões_feitas_pela_agenda_do_carro</th>\n",
       "      <th>attr_veiculo_alienado</th>\n",
       "      <th>preco</th>\n",
       "    </tr>\n",
       "  </thead>\n",
       "  <tbody>\n",
       "    <tr>\n",
       "      <th>0</th>\n",
       "      <td>105869496634249611881157692933406072990</td>\n",
       "      <td>8.0</td>\n",
       "      <td>VOLKSWAGEN</td>\n",
       "      <td>AMAROK</td>\n",
       "      <td>2.0 TRENDLINE 4X4 CD 16V TURBO INTERCOOLER DIE...</td>\n",
       "      <td>2017</td>\n",
       "      <td>2017.0</td>\n",
       "      <td>55672.0</td>\n",
       "      <td>Automática</td>\n",
       "      <td>4</td>\n",
       "      <td>Picape</td>\n",
       "      <td>N</td>\n",
       "      <td>Preto</td>\n",
       "      <td>PF</td>\n",
       "      <td>São Paulo</td>\n",
       "      <td>São Paulo (SP)</td>\n",
       "      <td>Pessoa Física</td>\n",
       "      <td>False</td>\n",
       "      <td>False</td>\n",
       "      <td>False</td>\n",
       "      <td>Aceita troca</td>\n",
       "      <td>NaN</td>\n",
       "      <td>Todas as revisões feitas pela concessionária</td>\n",
       "      <td>IPVA pago</td>\n",
       "      <td>Licenciado</td>\n",
       "      <td>NaN</td>\n",
       "      <td>Todas as revisões feitas pela agenda do carro</td>\n",
       "      <td>NaN</td>\n",
       "      <td>123231.992782</td>\n",
       "    </tr>\n",
       "    <tr>\n",
       "      <th>1</th>\n",
       "      <td>14165644411757892901957277406025007093</td>\n",
       "      <td>8.0</td>\n",
       "      <td>JAGUAR</td>\n",
       "      <td>F-PACE</td>\n",
       "      <td>2.0 16V TURBO DIESEL PRESTIGE AWD 4P AUTOMÁTICO</td>\n",
       "      <td>2017</td>\n",
       "      <td>2017.0</td>\n",
       "      <td>47858.0</td>\n",
       "      <td>Automática</td>\n",
       "      <td>4</td>\n",
       "      <td>Utilitário esportivo</td>\n",
       "      <td>N</td>\n",
       "      <td>Branco</td>\n",
       "      <td>PF</td>\n",
       "      <td>Rio de Janeiro</td>\n",
       "      <td>Rio Grande do Sul (RS)</td>\n",
       "      <td>Pessoa Física</td>\n",
       "      <td>False</td>\n",
       "      <td>False</td>\n",
       "      <td>False</td>\n",
       "      <td>Aceita troca</td>\n",
       "      <td>NaN</td>\n",
       "      <td>Todas as revisões feitas pela concessionária</td>\n",
       "      <td>IPVA pago</td>\n",
       "      <td>NaN</td>\n",
       "      <td>NaN</td>\n",
       "      <td>Todas as revisões feitas pela agenda do carro</td>\n",
       "      <td>NaN</td>\n",
       "      <td>272076.023576</td>\n",
       "    </tr>\n",
       "    <tr>\n",
       "      <th>2</th>\n",
       "      <td>78515656948521351316652580664682810356</td>\n",
       "      <td>14.0</td>\n",
       "      <td>CHEVROLET</td>\n",
       "      <td>CRUZE</td>\n",
       "      <td>1.8 LT 16V FLEX 4P AUTOMÁTICO</td>\n",
       "      <td>2012</td>\n",
       "      <td>2013.0</td>\n",
       "      <td>122323.0</td>\n",
       "      <td>Automática</td>\n",
       "      <td>4</td>\n",
       "      <td>Sedã</td>\n",
       "      <td>N</td>\n",
       "      <td>Prata</td>\n",
       "      <td>PJ</td>\n",
       "      <td>Rio de Janeiro</td>\n",
       "      <td>São Paulo (SP)</td>\n",
       "      <td>Loja</td>\n",
       "      <td>True</td>\n",
       "      <td>True</td>\n",
       "      <td>False</td>\n",
       "      <td>Aceita troca</td>\n",
       "      <td>NaN</td>\n",
       "      <td>NaN</td>\n",
       "      <td>NaN</td>\n",
       "      <td>NaN</td>\n",
       "      <td>NaN</td>\n",
       "      <td>NaN</td>\n",
       "      <td>NaN</td>\n",
       "      <td>53411.539492</td>\n",
       "    </tr>\n",
       "    <tr>\n",
       "      <th>3</th>\n",
       "      <td>36797041166808090517929207429817328298</td>\n",
       "      <td>8.0</td>\n",
       "      <td>PORSCHE</td>\n",
       "      <td>718</td>\n",
       "      <td>2.0 16V H4 GASOLINA BOXSTER PDK</td>\n",
       "      <td>2020</td>\n",
       "      <td>2021.0</td>\n",
       "      <td>14207.0</td>\n",
       "      <td>Automática</td>\n",
       "      <td>2</td>\n",
       "      <td>Picape</td>\n",
       "      <td>N</td>\n",
       "      <td>Branco</td>\n",
       "      <td>PF</td>\n",
       "      <td>São Paulo</td>\n",
       "      <td>São Paulo (SP)</td>\n",
       "      <td>Pessoa Física</td>\n",
       "      <td>False</td>\n",
       "      <td>False</td>\n",
       "      <td>False</td>\n",
       "      <td>Aceita troca</td>\n",
       "      <td>NaN</td>\n",
       "      <td>Todas as revisões feitas pela concessionária</td>\n",
       "      <td>NaN</td>\n",
       "      <td>NaN</td>\n",
       "      <td>NaN</td>\n",
       "      <td>NaN</td>\n",
       "      <td>NaN</td>\n",
       "      <td>299697.071937</td>\n",
       "    </tr>\n",
       "    <tr>\n",
       "      <th>4</th>\n",
       "      <td>338618517701891995317200439137014723900</td>\n",
       "      <td>8.0</td>\n",
       "      <td>VOLVO</td>\n",
       "      <td>XC90</td>\n",
       "      <td>2.0 INSCRIPTION TURBO GASOLINA 4P 4X4 AUTOMÁTICO</td>\n",
       "      <td>2015</td>\n",
       "      <td>2016.0</td>\n",
       "      <td>43760.0</td>\n",
       "      <td>Automática</td>\n",
       "      <td>4</td>\n",
       "      <td>Utilitário esportivo</td>\n",
       "      <td>N</td>\n",
       "      <td>Preto</td>\n",
       "      <td>PF</td>\n",
       "      <td>Ribeirão Preto</td>\n",
       "      <td>São Paulo (SP)</td>\n",
       "      <td>Pessoa Física</td>\n",
       "      <td>False</td>\n",
       "      <td>False</td>\n",
       "      <td>False</td>\n",
       "      <td>Aceita troca</td>\n",
       "      <td>NaN</td>\n",
       "      <td>Todas as revisões feitas pela concessionária</td>\n",
       "      <td>NaN</td>\n",
       "      <td>NaN</td>\n",
       "      <td>NaN</td>\n",
       "      <td>Todas as revisões feitas pela agenda do carro</td>\n",
       "      <td>NaN</td>\n",
       "      <td>255164.344178</td>\n",
       "    </tr>\n",
       "  </tbody>\n",
       "</table>\n",
       "</div>"
      ],
      "text/plain": [
       "                                        ID  num_fotos       marca  modelo                                             versao  ano_de_fabricacao  ano_modelo  odometro      cambio  num_portas                  tipo blindado     cor tipo_vendedor cidade_vendedor         estado_vendedor   tipo_anuncio  entrega_delivery  troca  elegivel_revisao attr_veiculo_aceita_troca attr_veiculo_único_dono attr_veiculo_todas_as_revisões_feitas_pela_concessionária attr_veiculo_ipva_pago attr_veiculo_licenciado attr_veiculo_garantia_de_fábrica attr_veiculo_todas_as_revisões_feitas_pela_agenda_do_carro  attr_veiculo_alienado          preco\n",
       "0  105869496634249611881157692933406072990        8.0  VOLKSWAGEN  AMAROK  2.0 TRENDLINE 4X4 CD 16V TURBO INTERCOOLER DIE...               2017      2017.0   55672.0  Automática           4                Picape        N   Preto            PF       São Paulo          São Paulo (SP)  Pessoa Física             False  False             False              Aceita troca                     NaN       Todas as revisões feitas pela concessionária                     IPVA pago              Licenciado                              NaN      Todas as revisões feitas pela agenda do carro                            NaN  123231.992782\n",
       "1   14165644411757892901957277406025007093        8.0      JAGUAR  F-PACE    2.0 16V TURBO DIESEL PRESTIGE AWD 4P AUTOMÁTICO               2017      2017.0   47858.0  Automática           4  Utilitário esportivo        N  Branco            PF  Rio de Janeiro  Rio Grande do Sul (RS)  Pessoa Física             False  False             False              Aceita troca                     NaN       Todas as revisões feitas pela concessionária                     IPVA pago                     NaN                              NaN      Todas as revisões feitas pela agenda do carro                            NaN  272076.023576\n",
       "2   78515656948521351316652580664682810356       14.0   CHEVROLET   CRUZE                      1.8 LT 16V FLEX 4P AUTOMÁTICO               2012      2013.0  122323.0  Automática           4                  Sedã        N   Prata            PJ  Rio de Janeiro          São Paulo (SP)           Loja              True   True             False              Aceita troca                     NaN                                                NaN                           NaN                     NaN                              NaN                                                NaN                            NaN   53411.539492\n",
       "3   36797041166808090517929207429817328298        8.0     PORSCHE     718                    2.0 16V H4 GASOLINA BOXSTER PDK               2020      2021.0   14207.0  Automática           2                Picape        N  Branco            PF       São Paulo          São Paulo (SP)  Pessoa Física             False  False             False              Aceita troca                     NaN       Todas as revisões feitas pela concessionária                           NaN                     NaN                              NaN                                                NaN                            NaN  299697.071937\n",
       "4  338618517701891995317200439137014723900        8.0       VOLVO    XC90   2.0 INSCRIPTION TURBO GASOLINA 4P 4X4 AUTOMÁTICO               2015      2016.0   43760.0  Automática           4  Utilitário esportivo        N   Preto            PF  Ribeirão Preto          São Paulo (SP)  Pessoa Física             False  False             False              Aceita troca                     NaN       Todas as revisões feitas pela concessionária                           NaN                     NaN                              NaN      Todas as revisões feitas pela agenda do carro                            NaN  255164.344178"
      ]
     },
     "execution_count": 15,
     "metadata": {},
     "output_type": "execute_result"
    }
   ],
   "source": [
    "#first look at the dataframes\n",
    "df_treino.head()"
   ]
  },
  {
   "cell_type": "code",
   "execution_count": 16,
   "id": "0dbd54fc",
   "metadata": {
    "ExecuteTime": {
     "end_time": "2022-08-20T13:18:31.115898Z",
     "start_time": "2022-08-20T13:18:31.080427Z"
    },
    "scrolled": true
   },
   "outputs": [
    {
     "data": {
      "text/html": [
       "<div>\n",
       "<style scoped>\n",
       "    .dataframe tbody tr th:only-of-type {\n",
       "        vertical-align: middle;\n",
       "    }\n",
       "\n",
       "    .dataframe tbody tr th {\n",
       "        vertical-align: top;\n",
       "    }\n",
       "\n",
       "    .dataframe thead th {\n",
       "        text-align: right;\n",
       "    }\n",
       "</style>\n",
       "<table border=\"1\" class=\"dataframe\">\n",
       "  <thead>\n",
       "    <tr style=\"text-align: right;\">\n",
       "      <th></th>\n",
       "      <th>ID</th>\n",
       "      <th>num_fotos</th>\n",
       "      <th>marca</th>\n",
       "      <th>modelo</th>\n",
       "      <th>versao</th>\n",
       "      <th>ano_de_fabricacao</th>\n",
       "      <th>ano_modelo</th>\n",
       "      <th>odometro</th>\n",
       "      <th>cambio</th>\n",
       "      <th>num_portas</th>\n",
       "      <th>tipo</th>\n",
       "      <th>blindado</th>\n",
       "      <th>cor</th>\n",
       "      <th>tipo_vendedor</th>\n",
       "      <th>cidade_vendedor</th>\n",
       "      <th>estado_vendedor</th>\n",
       "      <th>tipo_anuncio</th>\n",
       "      <th>entrega_delivery</th>\n",
       "      <th>troca</th>\n",
       "      <th>elegivel_revisao</th>\n",
       "      <th>attr_veiculo_aceita_troca</th>\n",
       "      <th>attr_veiculo_único_dono</th>\n",
       "      <th>attr_veiculo_todas_as_revisões_feitas_pela_concessionária</th>\n",
       "      <th>attr_veiculo_ipva_pago</th>\n",
       "      <th>attr_veiculo_licenciado</th>\n",
       "      <th>attr_veiculo_garantia_de_fábrica</th>\n",
       "      <th>attr_veiculo_todas_as_revisões_feitas_pela_agenda_do_carro</th>\n",
       "      <th>attr_veiculo_alienado</th>\n",
       "    </tr>\n",
       "  </thead>\n",
       "  <tbody>\n",
       "    <tr>\n",
       "      <th>0</th>\n",
       "      <td>24813264385557040124808779273028388499</td>\n",
       "      <td>14.0</td>\n",
       "      <td>CHEVROLET</td>\n",
       "      <td>SPIN</td>\n",
       "      <td>1.8 LTZ 8V FLEX 4P AUTOMÁTICO</td>\n",
       "      <td>2017</td>\n",
       "      <td>2017.0</td>\n",
       "      <td>62969.0</td>\n",
       "      <td>Automática</td>\n",
       "      <td>4</td>\n",
       "      <td>Sedã</td>\n",
       "      <td>N</td>\n",
       "      <td>Branco</td>\n",
       "      <td>PJ</td>\n",
       "      <td>Recife</td>\n",
       "      <td>Santa Catarina (SC)</td>\n",
       "      <td>Loja</td>\n",
       "      <td>False</td>\n",
       "      <td>False</td>\n",
       "      <td>False</td>\n",
       "      <td>Aceita troca</td>\n",
       "      <td>NaN</td>\n",
       "      <td>NaN</td>\n",
       "      <td>NaN</td>\n",
       "      <td>NaN</td>\n",
       "      <td>NaN</td>\n",
       "      <td>NaN</td>\n",
       "      <td>NaN</td>\n",
       "    </tr>\n",
       "    <tr>\n",
       "      <th>1</th>\n",
       "      <td>295636316453795508942188530111300065666</td>\n",
       "      <td>8.0</td>\n",
       "      <td>FIAT</td>\n",
       "      <td>TORO</td>\n",
       "      <td>1.8 16V EVO FLEX FREEDOM AT6</td>\n",
       "      <td>2021</td>\n",
       "      <td>2021.0</td>\n",
       "      <td>26324.0</td>\n",
       "      <td>Automática</td>\n",
       "      <td>4</td>\n",
       "      <td>Picape</td>\n",
       "      <td>N</td>\n",
       "      <td>Branco</td>\n",
       "      <td>PF</td>\n",
       "      <td>São Paulo</td>\n",
       "      <td>São Paulo (SP)</td>\n",
       "      <td>Pessoa Física</td>\n",
       "      <td>False</td>\n",
       "      <td>False</td>\n",
       "      <td>False</td>\n",
       "      <td>Aceita troca</td>\n",
       "      <td>NaN</td>\n",
       "      <td>NaN</td>\n",
       "      <td>IPVA pago</td>\n",
       "      <td>Licenciado</td>\n",
       "      <td>NaN</td>\n",
       "      <td>NaN</td>\n",
       "      <td>NaN</td>\n",
       "    </tr>\n",
       "    <tr>\n",
       "      <th>2</th>\n",
       "      <td>101258309166227950735244624080888109884</td>\n",
       "      <td>8.0</td>\n",
       "      <td>VOLKSWAGEN</td>\n",
       "      <td>POLO</td>\n",
       "      <td>1.0 200 TSI HIGHLINE AUTOMÁTICO</td>\n",
       "      <td>2019</td>\n",
       "      <td>2020.0</td>\n",
       "      <td>37002.0</td>\n",
       "      <td>Automática</td>\n",
       "      <td>4</td>\n",
       "      <td>Hatchback</td>\n",
       "      <td>N</td>\n",
       "      <td>Branco</td>\n",
       "      <td>PF</td>\n",
       "      <td>São Paulo</td>\n",
       "      <td>São Paulo (SP)</td>\n",
       "      <td>Pessoa Física</td>\n",
       "      <td>False</td>\n",
       "      <td>False</td>\n",
       "      <td>False</td>\n",
       "      <td>NaN</td>\n",
       "      <td>Único dono</td>\n",
       "      <td>Todas as revisões feitas pela concessionária</td>\n",
       "      <td>IPVA pago</td>\n",
       "      <td>Licenciado</td>\n",
       "      <td>Garantia de fábrica</td>\n",
       "      <td>Todas as revisões feitas pela agenda do carro</td>\n",
       "      <td>NaN</td>\n",
       "    </tr>\n",
       "    <tr>\n",
       "      <th>3</th>\n",
       "      <td>28348734455782469411126661985772047409</td>\n",
       "      <td>15.0</td>\n",
       "      <td>CHEVROLET</td>\n",
       "      <td>TRACKER</td>\n",
       "      <td>1.8 MPFI LTZ 4X2 16V FLEX 4P AUTOMÁTICO</td>\n",
       "      <td>2012</td>\n",
       "      <td>2015.0</td>\n",
       "      <td>86762.0</td>\n",
       "      <td>Automática</td>\n",
       "      <td>4</td>\n",
       "      <td>Sedã</td>\n",
       "      <td>N</td>\n",
       "      <td>Branco</td>\n",
       "      <td>PJ</td>\n",
       "      <td>Rio de Janeiro</td>\n",
       "      <td>Rio de Janeiro (RJ)</td>\n",
       "      <td>Loja</td>\n",
       "      <td>False</td>\n",
       "      <td>False</td>\n",
       "      <td>False</td>\n",
       "      <td>Aceita troca</td>\n",
       "      <td>NaN</td>\n",
       "      <td>NaN</td>\n",
       "      <td>NaN</td>\n",
       "      <td>NaN</td>\n",
       "      <td>NaN</td>\n",
       "      <td>NaN</td>\n",
       "      <td>NaN</td>\n",
       "    </tr>\n",
       "    <tr>\n",
       "      <th>4</th>\n",
       "      <td>193163160502972147671913739170248305797</td>\n",
       "      <td>8.0</td>\n",
       "      <td>BMW</td>\n",
       "      <td>120i</td>\n",
       "      <td>2.0 16V SPORT ACTIVEFLEX 4P AUTOMÁTICO</td>\n",
       "      <td>2015</td>\n",
       "      <td>2017.0</td>\n",
       "      <td>93040.0</td>\n",
       "      <td>Automática</td>\n",
       "      <td>4</td>\n",
       "      <td>Sedã</td>\n",
       "      <td>N</td>\n",
       "      <td>Branco</td>\n",
       "      <td>PF</td>\n",
       "      <td>Campo Grande</td>\n",
       "      <td>Rio Grande do Sul (RS)</td>\n",
       "      <td>Pessoa Física</td>\n",
       "      <td>False</td>\n",
       "      <td>False</td>\n",
       "      <td>False</td>\n",
       "      <td>NaN</td>\n",
       "      <td>NaN</td>\n",
       "      <td>NaN</td>\n",
       "      <td>IPVA pago</td>\n",
       "      <td>Licenciado</td>\n",
       "      <td>NaN</td>\n",
       "      <td>NaN</td>\n",
       "      <td>NaN</td>\n",
       "    </tr>\n",
       "  </tbody>\n",
       "</table>\n",
       "</div>"
      ],
      "text/plain": [
       "                                        ID  num_fotos       marca   modelo                                   versao  ano_de_fabricacao  ano_modelo  odometro      cambio  num_portas       tipo blindado     cor tipo_vendedor cidade_vendedor         estado_vendedor   tipo_anuncio  entrega_delivery  troca  elegivel_revisao attr_veiculo_aceita_troca attr_veiculo_único_dono attr_veiculo_todas_as_revisões_feitas_pela_concessionária attr_veiculo_ipva_pago attr_veiculo_licenciado attr_veiculo_garantia_de_fábrica attr_veiculo_todas_as_revisões_feitas_pela_agenda_do_carro  attr_veiculo_alienado\n",
       "0   24813264385557040124808779273028388499       14.0   CHEVROLET     SPIN            1.8 LTZ 8V FLEX 4P AUTOMÁTICO               2017      2017.0   62969.0  Automática           4       Sedã        N  Branco            PJ          Recife     Santa Catarina (SC)           Loja             False  False             False              Aceita troca                     NaN                                                NaN                           NaN                     NaN                              NaN                                                NaN                            NaN\n",
       "1  295636316453795508942188530111300065666        8.0        FIAT     TORO             1.8 16V EVO FLEX FREEDOM AT6               2021      2021.0   26324.0  Automática           4     Picape        N  Branco            PF       São Paulo          São Paulo (SP)  Pessoa Física             False  False             False              Aceita troca                     NaN                                                NaN                     IPVA pago              Licenciado                              NaN                                                NaN                            NaN\n",
       "2  101258309166227950735244624080888109884        8.0  VOLKSWAGEN     POLO          1.0 200 TSI HIGHLINE AUTOMÁTICO               2019      2020.0   37002.0  Automática           4  Hatchback        N  Branco            PF       São Paulo          São Paulo (SP)  Pessoa Física             False  False             False                       NaN              Único dono       Todas as revisões feitas pela concessionária                     IPVA pago              Licenciado              Garantia de fábrica      Todas as revisões feitas pela agenda do carro                            NaN\n",
       "3   28348734455782469411126661985772047409       15.0   CHEVROLET  TRACKER  1.8 MPFI LTZ 4X2 16V FLEX 4P AUTOMÁTICO               2012      2015.0   86762.0  Automática           4       Sedã        N  Branco            PJ  Rio de Janeiro     Rio de Janeiro (RJ)           Loja             False  False             False              Aceita troca                     NaN                                                NaN                           NaN                     NaN                              NaN                                                NaN                            NaN\n",
       "4  193163160502972147671913739170248305797        8.0         BMW     120i   2.0 16V SPORT ACTIVEFLEX 4P AUTOMÁTICO               2015      2017.0   93040.0  Automática           4       Sedã        N  Branco            PF    Campo Grande  Rio Grande do Sul (RS)  Pessoa Física             False  False             False                       NaN                     NaN                                                NaN                     IPVA pago              Licenciado                              NaN                                                NaN                            NaN"
      ]
     },
     "execution_count": 16,
     "metadata": {},
     "output_type": "execute_result"
    }
   ],
   "source": [
    "#first look at the dataframes\n",
    "df_teste.head()"
   ]
  },
  {
   "cell_type": "markdown",
   "id": "respiratory-seattle",
   "metadata": {},
   "source": [
    "# DATA DISCRIPTION"
   ]
  },
  {
   "cell_type": "code",
   "execution_count": null,
   "id": "italian-wayne",
   "metadata": {},
   "outputs": [],
   "source": []
  },
  {
   "cell_type": "markdown",
   "id": "linear-haiti",
   "metadata": {},
   "source": [
    "## Rename Columns"
   ]
  },
  {
   "cell_type": "markdown",
   "id": "indian-fabric",
   "metadata": {},
   "source": []
  },
  {
   "cell_type": "markdown",
   "id": "growing-arrival",
   "metadata": {},
   "source": [
    "## Data Dimension"
   ]
  },
  {
   "cell_type": "code",
   "execution_count": null,
   "id": "associate-corruption",
   "metadata": {},
   "outputs": [],
   "source": []
  },
  {
   "cell_type": "markdown",
   "id": "covered-offset",
   "metadata": {},
   "source": [
    "## Data Types"
   ]
  },
  {
   "cell_type": "code",
   "execution_count": null,
   "id": "suburban-trinity",
   "metadata": {},
   "outputs": [],
   "source": []
  },
  {
   "cell_type": "markdown",
   "id": "naval-annual",
   "metadata": {},
   "source": [
    "## Check NA Values"
   ]
  },
  {
   "cell_type": "code",
   "execution_count": null,
   "id": "important-appendix",
   "metadata": {},
   "outputs": [],
   "source": []
  },
  {
   "cell_type": "markdown",
   "id": "unique-charlotte",
   "metadata": {},
   "source": [
    "## Fillout NA"
   ]
  },
  {
   "cell_type": "code",
   "execution_count": null,
   "id": "coral-leone",
   "metadata": {},
   "outputs": [],
   "source": []
  },
  {
   "cell_type": "markdown",
   "id": "baking-paragraph",
   "metadata": {},
   "source": [
    "## Change Types"
   ]
  },
  {
   "cell_type": "code",
   "execution_count": null,
   "id": "fixed-reputation",
   "metadata": {},
   "outputs": [],
   "source": []
  },
  {
   "cell_type": "markdown",
   "id": "severe-puppy",
   "metadata": {
    "heading_collapsed": true
   },
   "source": [
    "## Descriptive Statistics"
   ]
  },
  {
   "cell_type": "code",
   "execution_count": null,
   "id": "wrong-nothing",
   "metadata": {
    "hidden": true
   },
   "outputs": [],
   "source": []
  },
  {
   "cell_type": "markdown",
   "id": "coastal-pakistan",
   "metadata": {
    "heading_collapsed": true
   },
   "source": [
    "# FEATURE ENGINEERING"
   ]
  },
  {
   "cell_type": "code",
   "execution_count": null,
   "id": "public-export",
   "metadata": {
    "hidden": true
   },
   "outputs": [],
   "source": []
  },
  {
   "cell_type": "markdown",
   "id": "objective-blogger",
   "metadata": {
    "heading_collapsed": true,
    "hidden": true
   },
   "source": [
    "## Hypothesis Mindmap"
   ]
  },
  {
   "cell_type": "code",
   "execution_count": null,
   "id": "imposed-singapore",
   "metadata": {
    "hidden": true
   },
   "outputs": [],
   "source": []
  },
  {
   "cell_type": "markdown",
   "id": "colonial-standing",
   "metadata": {
    "hidden": true
   },
   "source": [
    "## Creating Hypothesis"
   ]
  },
  {
   "cell_type": "code",
   "execution_count": null,
   "id": "assumed-kidney",
   "metadata": {
    "hidden": true
   },
   "outputs": [],
   "source": []
  },
  {
   "cell_type": "markdown",
   "id": "heated-capability",
   "metadata": {
    "hidden": true
   },
   "source": [
    "## Final Hypothesis List"
   ]
  },
  {
   "cell_type": "code",
   "execution_count": null,
   "id": "adult-theta",
   "metadata": {
    "hidden": true
   },
   "outputs": [],
   "source": []
  },
  {
   "cell_type": "markdown",
   "id": "hidden-albert",
   "metadata": {
    "hidden": true
   },
   "source": [
    "## Feature Engineering"
   ]
  },
  {
   "cell_type": "code",
   "execution_count": null,
   "id": "serious-archives",
   "metadata": {
    "hidden": true
   },
   "outputs": [],
   "source": []
  },
  {
   "cell_type": "markdown",
   "id": "experienced-lighting",
   "metadata": {},
   "source": [
    "# VARIABLE FILTERING"
   ]
  },
  {
   "cell_type": "code",
   "execution_count": null,
   "id": "miniature-location",
   "metadata": {},
   "outputs": [],
   "source": []
  },
  {
   "cell_type": "markdown",
   "id": "royal-fitting",
   "metadata": {
    "heading_collapsed": true
   },
   "source": [
    "## Line Filtering"
   ]
  },
  {
   "cell_type": "code",
   "execution_count": null,
   "id": "pregnant-cradle",
   "metadata": {
    "hidden": true
   },
   "outputs": [],
   "source": []
  },
  {
   "cell_type": "markdown",
   "id": "bulgarian-queue",
   "metadata": {
    "heading_collapsed": true
   },
   "source": [
    "## Columns Selection"
   ]
  },
  {
   "cell_type": "code",
   "execution_count": null,
   "id": "destroyed-liquid",
   "metadata": {
    "hidden": true
   },
   "outputs": [],
   "source": []
  },
  {
   "cell_type": "markdown",
   "id": "collaborative-baker",
   "metadata": {},
   "source": [
    "# EXPLORATORY DATA ANALYSIS (EDA)"
   ]
  },
  {
   "cell_type": "code",
   "execution_count": null,
   "id": "liquid-secretariat",
   "metadata": {},
   "outputs": [],
   "source": []
  },
  {
   "cell_type": "markdown",
   "id": "prostate-deputy",
   "metadata": {
    "heading_collapsed": true
   },
   "source": [
    "## Univariate Analysis"
   ]
  },
  {
   "cell_type": "markdown",
   "id": "accessible-glass",
   "metadata": {
    "heading_collapsed": true,
    "hidden": true
   },
   "source": [
    "### Response Variable"
   ]
  },
  {
   "cell_type": "code",
   "execution_count": null,
   "id": "nervous-discrimination",
   "metadata": {
    "hidden": true
   },
   "outputs": [],
   "source": []
  },
  {
   "cell_type": "markdown",
   "id": "preceding-contractor",
   "metadata": {
    "heading_collapsed": true,
    "hidden": true
   },
   "source": [
    "### Numerical Variable"
   ]
  },
  {
   "cell_type": "code",
   "execution_count": null,
   "id": "athletic-phoenix",
   "metadata": {
    "hidden": true
   },
   "outputs": [],
   "source": []
  },
  {
   "cell_type": "markdown",
   "id": "european-sally",
   "metadata": {
    "heading_collapsed": true,
    "hidden": true
   },
   "source": [
    "### Categorical Variable"
   ]
  },
  {
   "cell_type": "code",
   "execution_count": null,
   "id": "graphic-interface",
   "metadata": {
    "hidden": true
   },
   "outputs": [],
   "source": []
  },
  {
   "cell_type": "markdown",
   "id": "metallic-granny",
   "metadata": {
    "heading_collapsed": true
   },
   "source": [
    "## Bivariate Analysis"
   ]
  },
  {
   "cell_type": "code",
   "execution_count": null,
   "id": "governing-upgrade",
   "metadata": {
    "hidden": true
   },
   "outputs": [],
   "source": []
  },
  {
   "cell_type": "markdown",
   "id": "smooth-franklin",
   "metadata": {
    "heading_collapsed": true
   },
   "source": [
    "## Multivariate Analysis"
   ]
  },
  {
   "cell_type": "code",
   "execution_count": null,
   "id": "swedish-bonus",
   "metadata": {
    "hidden": true
   },
   "outputs": [],
   "source": []
  },
  {
   "cell_type": "markdown",
   "id": "distributed-rebate",
   "metadata": {
    "heading_collapsed": true
   },
   "source": [
    "# DATA PREPARATION"
   ]
  },
  {
   "cell_type": "code",
   "execution_count": null,
   "id": "single-camera",
   "metadata": {
    "hidden": true
   },
   "outputs": [],
   "source": []
  },
  {
   "cell_type": "markdown",
   "id": "controlling-wisconsin",
   "metadata": {
    "heading_collapsed": true,
    "hidden": true
   },
   "source": [
    "## Feature Normalization"
   ]
  },
  {
   "cell_type": "code",
   "execution_count": null,
   "id": "angry-hearing",
   "metadata": {
    "hidden": true
   },
   "outputs": [],
   "source": []
  },
  {
   "cell_type": "markdown",
   "id": "adapted-pastor",
   "metadata": {
    "heading_collapsed": true,
    "hidden": true
   },
   "source": [
    "## Feature Rescaling"
   ]
  },
  {
   "cell_type": "code",
   "execution_count": null,
   "id": "fuzzy-march",
   "metadata": {
    "hidden": true
   },
   "outputs": [],
   "source": []
  },
  {
   "cell_type": "markdown",
   "id": "talented-auction",
   "metadata": {
    "heading_collapsed": true,
    "hidden": true
   },
   "source": [
    "## Feature Transformation"
   ]
  },
  {
   "cell_type": "markdown",
   "id": "nominated-potato",
   "metadata": {
    "heading_collapsed": true,
    "hidden": true
   },
   "source": [
    "### Enconding"
   ]
  },
  {
   "cell_type": "code",
   "execution_count": null,
   "id": "dressed-evans",
   "metadata": {
    "hidden": true
   },
   "outputs": [],
   "source": []
  },
  {
   "cell_type": "markdown",
   "id": "supposed-royalty",
   "metadata": {
    "heading_collapsed": true,
    "hidden": true
   },
   "source": [
    "### Target Variable Transformation"
   ]
  },
  {
   "cell_type": "code",
   "execution_count": null,
   "id": "innocent-nancy",
   "metadata": {
    "hidden": true
   },
   "outputs": [],
   "source": []
  },
  {
   "cell_type": "markdown",
   "id": "eligible-safety",
   "metadata": {
    "heading_collapsed": true,
    "hidden": true
   },
   "source": [
    "### Nature Transformation"
   ]
  },
  {
   "cell_type": "code",
   "execution_count": null,
   "id": "imperial-judges",
   "metadata": {
    "hidden": true
   },
   "outputs": [],
   "source": []
  },
  {
   "cell_type": "markdown",
   "id": "fatal-meditation",
   "metadata": {},
   "source": [
    "# FEATURE SELECTION"
   ]
  },
  {
   "cell_type": "code",
   "execution_count": null,
   "id": "oriental-benjamin",
   "metadata": {},
   "outputs": [],
   "source": []
  },
  {
   "cell_type": "markdown",
   "id": "internal-stake",
   "metadata": {
    "heading_collapsed": true
   },
   "source": [
    "## Spliting dataframe into training and test dataset"
   ]
  },
  {
   "cell_type": "code",
   "execution_count": null,
   "id": "norman-compatibility",
   "metadata": {
    "hidden": true
   },
   "outputs": [],
   "source": []
  },
  {
   "cell_type": "markdown",
   "id": "personalized-intervention",
   "metadata": {
    "heading_collapsed": true
   },
   "source": [
    "## Feature Selector (boruta?)"
   ]
  },
  {
   "cell_type": "code",
   "execution_count": null,
   "id": "determined-pressing",
   "metadata": {
    "hidden": true
   },
   "outputs": [],
   "source": []
  },
  {
   "cell_type": "markdown",
   "id": "executive-gates",
   "metadata": {
    "heading_collapsed": true
   },
   "source": [
    "## Best Features"
   ]
  },
  {
   "cell_type": "code",
   "execution_count": null,
   "id": "advance-serve",
   "metadata": {
    "hidden": true
   },
   "outputs": [],
   "source": []
  },
  {
   "cell_type": "markdown",
   "id": "electronic-release",
   "metadata": {},
   "source": [
    "# MACHINE LEARNING ALGORITHM MODELS"
   ]
  },
  {
   "cell_type": "markdown",
   "id": "stuffed-rally",
   "metadata": {},
   "source": [
    "## Modelo 1"
   ]
  },
  {
   "cell_type": "markdown",
   "id": "veterinary-oxford",
   "metadata": {},
   "source": [
    "## Modelo 2"
   ]
  },
  {
   "cell_type": "markdown",
   "id": "requested-mason",
   "metadata": {},
   "source": [
    "## Modelo 3"
   ]
  },
  {
   "cell_type": "markdown",
   "id": "charged-potato",
   "metadata": {},
   "source": [
    "## Compare Model's Performance"
   ]
  },
  {
   "cell_type": "code",
   "execution_count": null,
   "id": "representative-blake",
   "metadata": {},
   "outputs": [],
   "source": []
  },
  {
   "cell_type": "markdown",
   "id": "frequent-brooklyn",
   "metadata": {},
   "source": [
    "# HYPERPARAMETERS FINE TUNING"
   ]
  },
  {
   "cell_type": "code",
   "execution_count": null,
   "id": "absent-telephone",
   "metadata": {},
   "outputs": [],
   "source": []
  },
  {
   "cell_type": "markdown",
   "id": "bright-green",
   "metadata": {},
   "source": [
    "# ERROR INTERPRETATION"
   ]
  },
  {
   "cell_type": "code",
   "execution_count": null,
   "id": "dirty-hindu",
   "metadata": {},
   "outputs": [],
   "source": []
  },
  {
   "cell_type": "markdown",
   "id": "fifth-tooth",
   "metadata": {},
   "source": [
    "# MODEL DEPLOYMENT"
   ]
  }
 ],
 "metadata": {
  "kernelspec": {
   "display_name": "Python 3 (ipykernel)",
   "language": "python",
   "name": "python3"
  },
  "language_info": {
   "codemirror_mode": {
    "name": "ipython",
    "version": 3
   },
   "file_extension": ".py",
   "mimetype": "text/x-python",
   "name": "python",
   "nbconvert_exporter": "python",
   "pygments_lexer": "ipython3",
   "version": "3.9.2"
  },
  "nbTranslate": {
   "displayLangs": [
    "*"
   ],
   "hotkey": "alt-t",
   "langInMainMenu": true,
   "sourceLang": "en",
   "targetLang": "fr",
   "useGoogleTranslate": true
  },
  "toc": {
   "base_numbering": 1,
   "nav_menu": {},
   "number_sections": true,
   "sideBar": true,
   "skip_h1_title": false,
   "title_cell": "Table of Contents",
   "title_sidebar": "Contents",
   "toc_cell": false,
   "toc_position": {},
   "toc_section_display": true,
   "toc_window_display": false
  }
 },
 "nbformat": 4,
 "nbformat_minor": 5
}
